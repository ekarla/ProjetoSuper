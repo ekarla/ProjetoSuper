{
 "cells": [
  {
   "cell_type": "markdown",
   "metadata": {},
   "source": [
    "<br>Este notebook mostra como fazer uma conversão de pdf em dataframe utilizando pandas e a biblioteca TabulaPy"
   ]
  },
  {
   "cell_type": "code",
   "execution_count": 12,
   "metadata": {},
   "outputs": [
    {
     "name": "stdout",
     "output_type": "stream",
     "text": [
      "Requirement already satisfied: tabula-py in c:\\users\\elenerobson\\anaconda3\\lib\\site-packages (2.1.0)\n",
      "Requirement already satisfied: distro in c:\\users\\elenerobson\\anaconda3\\lib\\site-packages (from tabula-py) (1.5.0)\n",
      "Requirement already satisfied: pandas>=0.25.3 in c:\\users\\elenerobson\\anaconda3\\lib\\site-packages (from tabula-py) (1.0.1)\n",
      "Requirement already satisfied: numpy in c:\\users\\elenerobson\\anaconda3\\lib\\site-packages (from tabula-py) (1.18.1)\n",
      "Requirement already satisfied: pytz>=2017.2 in c:\\users\\elenerobson\\anaconda3\\lib\\site-packages (from pandas>=0.25.3->tabula-py) (2019.3)\n",
      "Requirement already satisfied: python-dateutil>=2.6.1 in c:\\users\\elenerobson\\anaconda3\\lib\\site-packages (from pandas>=0.25.3->tabula-py) (2.8.1)\n",
      "Requirement already satisfied: six>=1.5 in c:\\users\\elenerobson\\anaconda3\\lib\\site-packages (from python-dateutil>=2.6.1->pandas>=0.25.3->tabula-py) (1.14.0)\n"
     ]
    }
   ],
   "source": [
    "!pip install tabula-py"
   ]
  },
  {
   "cell_type": "code",
   "execution_count": 65,
   "metadata": {},
   "outputs": [],
   "source": [
    "import tabula\n",
    "import pandas as pd\n",
    "\n",
    "\n",
    "dados = tabula.read_pdf(\"OC_LEITOS_20200601.pdf\",encoding = 'utf-8',pages = 'all',guess = False)"
   ]
  },
  {
   "cell_type": "code",
   "execution_count": 64,
   "metadata": {},
   "outputs": [
    {
     "data": {
      "text/plain": [
       "[                                    INDICADORES REDE ESTADUAL REDE MUNICIPAL  \\\n",
       " 0                                           NaN         TOTAL      HOSPITAIS   \n",
       " 1                          TOTAL  SALA VERMELHA           129             78   \n",
       " 2              LEITOS SALA VERMELHA - NÃO COVID            65             38   \n",
       " 3   LEITOS SALA VERMELHA - NÃO COVID - OCUPADOS            34             28   \n",
       " 4                    LEITOS SALA VERMELHA COVID            64             40   \n",
       " 5         LEITOS SALA VERMELHA COVID - OCUPADOS            27             24   \n",
       " 6                      TOTAL DE LEITOS CLÍNICOS         2.322          1.329   \n",
       " 7                     LEITOS CLINICOS NÃO COVID         1.484            624   \n",
       " 8          LEITOS CLINICOS NÃO COVID - OCUPADOS           811            280   \n",
       " 9                         LEITOS CLINICOS COVID           848            705   \n",
       " 10             LEITOS CLINICOS COVID - OCUPADOS           389            347   \n",
       " 11                      TOTAL  DE LEITOS DE UTI           467            353   \n",
       " 12                                UTI NÃO COVID           215            124   \n",
       " 13                     UTI NÃO COVID - OCUPADOS           110             46   \n",
       " 14                                    UTI COVID           252            229   \n",
       " 15                         UTI COVID - OCUPADOS           166            151   \n",
       " 16                             TAXA DE OCUPAÇÃO           NaN            NaN   \n",
       " 17                     SALA VERMELHA | COVID-19           43%            NaN   \n",
       " 18                 SALA VERMELHA | NÃO COVID-19           53%            NaN   \n",
       " 19                   LEITOS CLINICOS | COVID-19           47%            NaN   \n",
       " 20               LEITOS CLINICOS | NÃO COVID-19           57%            NaN   \n",
       " 21                               UTI | COVID-19           71%            NaN   \n",
       " 22                           UTI | NÃO COVID-19           53%            NaN   \n",
       " \n",
       "    REDE PRIVADA FORÇAS\\rARMADAS Unnamed: 0 Unnamed: 1 Unnamed: 2 Unnamed: 3  \\\n",
       " 0     FUNDAÇÕES    MATERNIDADES        SPA        UPA        NaN        NaN   \n",
       " 1            11               9         23          8          -          -   \n",
       " 2             5               3         15          4          -          -   \n",
       " 3             1               1          2          2          -          -   \n",
       " 4             6               6          8          4          -          -   \n",
       " 5             0               3          0          0          -          -   \n",
       " 6           302             504        148         39        112        645   \n",
       " 7           276             478         80         26          0        412   \n",
       " 8           116             397         15          3          0        232   \n",
       " 9            26              26         78         13        112        233   \n",
       " 10           14              19          6          3         92         96   \n",
       " 11           43              71         NT         NT         38        254   \n",
       " 12           30              61         NT         NT          0         91   \n",
       " 13            8              56         NT         NT          0         65   \n",
       " 14           13              10         NT         NT         38        163   \n",
       " 15            5              10         NT         NT         24         97   \n",
       " 16          NaN             NaN        NaN        NaN        NaN        NaN   \n",
       " 17          NaN             NaN        NaN        NaN        NaN        NaN   \n",
       " 18          NaN             NaN        NaN        NaN        NaN        NaN   \n",
       " 19          NaN             NaN        NaN        NaN        NaN        NaN   \n",
       " 20          NaN             NaN        NaN        NaN        NaN        NaN   \n",
       " 21          NaN             NaN        NaN        NaN        NaN        NaN   \n",
       " 22          NaN             NaN        NaN        NaN        NaN        NaN   \n",
       " \n",
       "    Unnamed: 4  \n",
       " 0         NaN  \n",
       " 1           -  \n",
       " 2           -  \n",
       " 3           -  \n",
       " 4           -  \n",
       " 5           -  \n",
       " 6          66  \n",
       " 7          12  \n",
       " 8           4  \n",
       " 9          54  \n",
       " 10          7  \n",
       " 11         17  \n",
       " 12          0  \n",
       " 13          0  \n",
       " 14         17  \n",
       " 15          5  \n",
       " 16        NaN  \n",
       " 17        NaN  \n",
       " 18        NaN  \n",
       " 19        NaN  \n",
       " 20        NaN  \n",
       " 21        NaN  \n",
       " 22        NaN  ,\n",
       "                  UNIDADES CLASSIFICAÇÃO Unnamed: 0 Unnamed: 1 Unnamed: 2  \\\n",
       " 0                     NaN    MUITO ALTA       ALTA      MÉDIA      BAIXA   \n",
       " 1               FUNDAÇÕES           NaN        NaN        NaN        NaN   \n",
       " 2               HOSPITAIS           NaN          1        NaN        NaN   \n",
       " 3            MATERNIDADES             1          2        NaN        NaN   \n",
       " 4  MUNICIPIOS DO INTERIOR            13          4        NaN          1   \n",
       " 5                     SPA           NaN          3        NaN        NaN   \n",
       " 6                     UPA           NaN        NaN          1        NaN   \n",
       " 7                   TOTAL            14         10          1          1   \n",
       " \n",
       "   Unnamed: 3  \n",
       " 0      TOTAL  \n",
       " 1          0  \n",
       " 2          1  \n",
       " 3          3  \n",
       " 4         18  \n",
       " 5          3  \n",
       " 6          1  \n",
       " 7         26  ]"
      ]
     },
     "execution_count": 64,
     "metadata": {},
     "output_type": "execute_result"
    }
   ],
   "source": [
    "dados\n"
   ]
  },
  {
   "cell_type": "code",
   "execution_count": 42,
   "metadata": {},
   "outputs": [
    {
     "data": {
      "text/plain": [
       "list"
      ]
     },
     "execution_count": 42,
     "metadata": {},
     "output_type": "execute_result"
    }
   ],
   "source": [
    "type(df)"
   ]
  },
  {
   "cell_type": "code",
   "execution_count": 61,
   "metadata": {},
   "outputs": [],
   "source": [
    "#convertendo o arquivo para csv...Podemos utilizar posteriormente\n",
    "\n",
    "data = tabula.convert_into(\"OC_MV_20200601.pdf\",\"output.csv\",output_format = \"csv\",pages = \"all\")\n",
    "\n"
   ]
  }
 ],
 "metadata": {
  "kernelspec": {
   "display_name": "Python 3",
   "language": "python",
   "name": "python3"
  },
  "language_info": {
   "codemirror_mode": {
    "name": "ipython",
    "version": 3
   },
   "file_extension": ".py",
   "mimetype": "text/x-python",
   "name": "python",
   "nbconvert_exporter": "python",
   "pygments_lexer": "ipython3",
   "version": "3.7.6"
  }
 },
 "nbformat": 4,
 "nbformat_minor": 4
}
